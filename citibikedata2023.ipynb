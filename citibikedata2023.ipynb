{
 "cells": [
  {
   "cell_type": "code",
   "execution_count": null,
   "metadata": {},
   "outputs": [],
   "source": [
    "import pandas as pd\n",
    "\n",
    "# Cargar los archivos CSV en DataFrames\n",
    "df1 = pd.read_csv('archivo1.csv')\n",
    "df2 = pd.read_csv('archivo2.csv')\n",
    "\n",
    "# Combinar DataFrames (puedes usar merge o concat según tus necesidades)\n",
    "combined_df = pd.concat([df1, df2], ignore_index=True)\n"
   ]
  }
 ],
 "metadata": {
  "language_info": {
   "name": "python"
  },
  "orig_nbformat": 4
 },
 "nbformat": 4,
 "nbformat_minor": 2
}
